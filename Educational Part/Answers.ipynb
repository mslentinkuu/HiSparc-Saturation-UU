{
 "cells": [
  {
   "cell_type": "markdown",
   "metadata": {},
   "source": [
    "Here you will find the answers to the exercise in the main document. Only use these to check if your answers were correct or if you really can't figure it out even after asking for help.\n",
    "Running code in this document will only give errors, it wont show you graphs for example.\n",
    "\n",
    "# Exercise 1\n",
    "\n",
    "#### 1.1\n",
    "\n",
    "Your code should be:"
   ]
  },
  {
   "cell_type": "code",
   "execution_count": null,
   "metadata": {},
   "outputs": [],
   "source": [
    "pl.hist(stations[0][5]) #Note that column 5 is actually the sixth element in stations[0] because the 1st element, again denoted with a 0, is the name of the station, not column 1."
   ]
  },
  {
   "cell_type": "markdown",
   "metadata": {},
   "source": [
    "#### 1.2\n",
    "\n",
    "Your code should look like:"
   ]
  },
  {
   "cell_type": "code",
   "execution_count": null,
   "metadata": {},
   "outputs": [],
   "source": [
    "pl.hist(stations[0][5])\n",
    "pl.show()"
   ]
  },
  {
   "cell_type": "markdown",
   "metadata": {},
   "source": [
    "#### 1.3\n",
    "\n",
    "Your code should look like:"
   ]
  },
  {
   "cell_type": "code",
   "execution_count": null,
   "metadata": {},
   "outputs": [],
   "source": [
    "pl.hist(stations[0][5], bins = np.linspace(0, 4200, 250))\n",
    "pl.show()"
   ]
  },
  {
   "cell_type": "markdown",
   "metadata": {},
   "source": [
    "#### 1.4\n",
    "\n",
    "Your code should look like:"
   ]
  },
  {
   "cell_type": "code",
   "execution_count": null,
   "metadata": {},
   "outputs": [],
   "source": [
    "pl.hist(stations[0][5], bins = np.linspace(0, 4200, 250), log=True)\n",
    "pl.show()"
   ]
  },
  {
   "cell_type": "markdown",
   "metadata": {},
   "source": [
    "#### 1.5\n",
    "\n",
    "Your code should look like:"
   ]
  },
  {
   "cell_type": "code",
   "execution_count": null,
   "metadata": {},
   "outputs": [],
   "source": [
    "pl.hist(stations[0][5], bins = np.linspace(0, 4200, 250), log=True, histtype='step')\n",
    "pl.show()"
   ]
  },
  {
   "cell_type": "markdown",
   "metadata": {},
   "source": [
    "#### 1.6\n",
    "\n",
    "Your code should look like:"
   ]
  },
  {
   "cell_type": "code",
   "execution_count": null,
   "metadata": {},
   "outputs": [],
   "source": [
    "pl.hist(stations[0][5], bins = np.linspace(0, 4200, 250), log=True, histtype='step')\n",
    "\n",
    "pl.xlabel('Pulse Height (ADC)')\n",
    "pl.ylabel('Count')\n",
    "pl.show()"
   ]
  },
  {
   "cell_type": "markdown",
   "metadata": {},
   "source": [
    "#### 1.7\n",
    "\n",
    "Your code should look like:"
   ]
  },
  {
   "cell_type": "code",
   "execution_count": null,
   "metadata": {},
   "outputs": [],
   "source": [
    "pl.hist(stations[0][5], bins = np.linspace(0, 4200, 250), log=True, histtype='step')\n",
    "pl.hist(stations[0][6], bins = np.linspace(0, 4200, 250), log=True, histtype='step')\n",
    "pl.hist(stations[0][7], bins = np.linspace(0, 4200, 250), log=True, histtype='step')\n",
    "pl.hist(stations[0][8], bins = np.linspace(0, 4200, 250), log=True, histtype='step')\n",
    "pl.xlabel('Pulse Height (ADC)')\n",
    "pl.ylabel('Count')\n",
    "pl.show()"
   ]
  },
  {
   "cell_type": "markdown",
   "metadata": {},
   "source": [
    "# Exercise 2\n",
    "\n",
    "#### 2.1\n",
    "\n",
    "The domain is from 0 to ~4200 and the range from 0 to ~12000.\n",
    "\n",
    "\n",
    "There is a maxiumum close to a pulse height of 0 with count of ~12000, a minumum at a pulse height of ~150 with a count of ~100. Then a second maximum at a pulse height of ~300-400 with a count of ~3200. Then between ~2500 and ~4200 all four graphs drop to a minimum of 0. \n",
    "\n",
    "\n",
    "Between the first maximum and minimum the count quickly decreases. Between the first minimum and second maximum the count increases quickly again but slows down near the second maximum.\n",
    "After the second maximum the count decreases again, first quicklt but decreasing more slowly later on until it reaches the second minimum.\n",
    "\n",
    "There are no points where the graph is really discontinuous, however near the second minimum it looks like it jumps up and down a lot due to very low counts in that region.\n",
    "\n",
    "#### 2.2\n",
    "\n",
    "Your code should look like this:"
   ]
  },
  {
   "cell_type": "code",
   "execution_count": null,
   "metadata": {},
   "outputs": [],
   "source": [
    "pl.hist(stations[0][9], bins = np.linspace(0, 4200, 250), log=True, histtype='step')\n",
    "pl.hist(stations[0][10], bins = np.linspace(0, 4200, 250), log=True, histtype='step')\n",
    "pl.hist(stations[0][11], bins = np.linspace(0, 4200, 250), log=True, histtype='step')\n",
    "pl.hist(stations[0][12], bins = np.linspace(0, 4200, 250), log=True, histtype='step')\n",
    "pl.xlabel('Pulse Height (ADC)')\n",
    "pl.ylabel('Count')\n",
    "pl.show()"
   ]
  },
  {
   "cell_type": "markdown",
   "metadata": {},
   "source": [
    "#### 2.3\n",
    "\n",
    "The range is the same however the domain is much bigger, from 0 to ~120000.\n",
    "\n",
    "Relative to the domain the maximum and minimum values stay the same, except the second minimum which is reached much sooner.\n",
    "\n",
    "Where the count increases and decreases is the same, except that the second minimum is reached much sooner after which the count same relativly the same until the end of the domain.\n",
    "\n",
    "There are again no points where the graph is really discontinuous.\n",
    "\n",
    "# Exercise 3\n",
    "\n",
    "#### 3.1\n",
    "\n",
    "Less then 1000 mV is bad.\n",
    "\n",
    "1000 to 1500 mV is below average.\n",
    "\n",
    "1500 to 2500 mV is average.\n",
    "\n",
    "2500-3000 mV is above average.\n",
    "\n",
    "More than 3000 mV is very good.\n",
    "\n",
    "#### 3.2 \n",
    "\n",
    "Detector ARCNL 3 seems to have a saturation point below 1000 mV and is therefor too low. From just the information available the detector might need to be replaced. However we don't know anything about the environment of the detector so you don't have enough information."
   ]
  }
 ],
 "metadata": {
  "kernelspec": {
   "display_name": "Python 3",
   "language": "python",
   "name": "python3"
  },
  "language_info": {
   "codemirror_mode": {
    "name": "ipython",
    "version": 3
   },
   "file_extension": ".py",
   "mimetype": "text/x-python",
   "name": "python",
   "nbconvert_exporter": "python",
   "pygments_lexer": "ipython3",
   "version": "3.7.6"
  }
 },
 "nbformat": 4,
 "nbformat_minor": 4
}
